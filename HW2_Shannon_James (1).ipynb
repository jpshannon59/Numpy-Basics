{
  "nbformat": 4,
  "nbformat_minor": 0,
  "metadata": {
    "colab": {
      "name": "HW2_Shannon_James.ipynb",
      "provenance": [],
      "collapsed_sections": []
    },
    "kernelspec": {
      "name": "python3",
      "display_name": "Python 3"
    }
  },
  "cells": [
    {
      "cell_type": "markdown",
      "metadata": {
        "id": "bNsIruOzI4iF"
      },
      "source": [
        "## **Homework 2**\n",
        "\n",
        "### Create a copy of the notebook to start answering the questions. Name your notebook in the format HW2_lastname_firstname.ipynb to facilitate the grading process. \n",
        "\n",
        "### Answer all the questions, test your code to ensure there are no errors and the results are as expected. Once you have answered all the questions, save the final copy, then go to File-> click on Download.ipynb. Once the local copy has been downloaded, submit your file on Blackboard under the corresponding assignment section. Also provide us a link to your notebook during submission. \n",
        "\n",
        "### **The due date of this homework is 02/12/2021 (Friday).**\n",
        "\n",
        "### Please ensure you follow all the steps mentioned in the homework.\n",
        "\n",
        "### All the questions have a sample input and output to help you understand the question.\n",
        "\n",
        "### You can submit your solutions any number of times until the deadline.\n"
      ]
    },
    {
      "cell_type": "markdown",
      "metadata": {
        "id": "U3Yz3s2uio1F"
      },
      "source": [
        "**Q1. Lets consider your data is like the below cell:**\n",
        "\n",
        "**Q1-1**: Write a program that create a dataframe from the data.\n",
        "\n",
        "**Q1-2:** Select people that are psychologist or teacher and their number of cars is greater than their family size.\n",
        "\n",
        "**Q1-3:** Select people who have at most 2 family members and at least 1 car.\n",
        "\n",
        "**Q1-4:** Write a code that get number of unique jobs in this dataset.\n",
        "\n",
        "\n",
        "\n"
      ]
    },
    {
      "cell_type": "code",
      "metadata": {
        "id": "yR8lcOtcjxXD"
      },
      "source": [
        "data = {\"name\": [\"Joseph\", \"Jacob\", \"Sam\", \"Jesee\", \"Ryan\", \"Lisa\", \"Lee\"],\n",
        "        \"job\": [\"teacher\", \"psychologist\", \"data scientist\", \"software developer\", \"psychologist\", \"psychologist\", \"teacher\"],\n",
        "        \"family_size\": [3, 2, 1, 4, 2, 3, 2],\n",
        "        \"num_cars\": [3, 1, 1, 2, 2, 4, 1]}"
      ],
      "execution_count": null,
      "outputs": []
    },
    {
      "cell_type": "code",
      "metadata": {
        "id": "Youi5qMaP34p",
        "colab": {
          "base_uri": "https://localhost:8080/"
        },
        "outputId": "b7eae77a-3953-47df-d509-4b4b3cd51a95"
      },
      "source": [
        "# Type your solution here\n",
        "import pandas as pd\n",
        "data = {\"name\": [\"Joseph\", \"Jacob\", \"Sam\", \"Jesee\", \"Ryan\", \"Lisa\", \"Lee\"],\n",
        "        \"job\": [\"teacher\", \"psychologist\", \"data scientist\", \"software developer\", \"psychologist\", \"psychologist\", \"teacher\"],\n",
        "        \"family_size\": [3, 2, 1, 4, 2, 3, 2],\n",
        "        \"num_cars\": [3, 1, 1, 2, 2, 4, 1]}\n",
        "frame = pd.DataFrame(data)\n",
        "print(frame)\n"
      ],
      "execution_count": null,
      "outputs": [
        {
          "output_type": "stream",
          "text": [
            "     name                 job  family_size  num_cars\n",
            "0  Joseph             teacher            3         3\n",
            "1   Jacob        psychologist            2         1\n",
            "2     Sam      data scientist            1         1\n",
            "3   Jesee  software developer            4         2\n",
            "4    Ryan        psychologist            2         2\n",
            "5    Lisa        psychologist            3         4\n",
            "6     Lee             teacher            2         1\n"
          ],
          "name": "stdout"
        }
      ]
    },
    {
      "cell_type": "markdown",
      "metadata": {
        "id": "Ow6nG8k4l91X"
      },
      "source": [
        "**Q2. Lets consider you have two series like the below cell. Compute the mean of weights of each fruit.**"
      ]
    },
    {
      "cell_type": "code",
      "metadata": {
        "id": "u-X_DoOzVLLB",
        "colab": {
          "base_uri": "https://localhost:8080/"
        },
        "outputId": "dbffbed3-1195-4c32-b7b1-a0f064bf5b3a"
      },
      "source": [
        "import numpy as np\n",
        "fruit = pd.Series(np.random.choice(['apple', 'banana', 'carrot'], 10))\n",
        "weights = pd.Series(np.linspace(1, 10, 10))\n",
        "\n"
      ],
      "execution_count": null,
      "outputs": [
        {
          "output_type": "stream",
          "text": [
            "0     apple\n",
            "1    banana\n",
            "2    carrot\n",
            "3    banana\n",
            "4    banana\n",
            "5    carrot\n",
            "6     apple\n",
            "7    carrot\n",
            "8     apple\n",
            "9     apple\n",
            "dtype: object\n"
          ],
          "name": "stdout"
        }
      ]
    },
    {
      "cell_type": "code",
      "metadata": {
        "id": "S419nzYnpU__",
        "colab": {
          "base_uri": "https://localhost:8080/"
        },
        "outputId": "e19d2e43-b648-491a-f174-97f8d370a5d8"
      },
      "source": [
        "# Type your solution here\n",
        "import numpy as np\n",
        "import pandas as pd\n",
        "fruit = pd.Series(np.random.choice(['apple', 'banana', 'carrot'], 10))\n",
        "weights = pd.Series(np.linspace(1, 10, 10))\n",
        "\n",
        "df = pd.concat([fruit, weights], axis = 1)\n",
        "print(df)\n",
        "\n",
        "\n",
        "select_apple = df.loc[df[0] == 'apple']\n",
        "#print(select_apple)\n",
        "a = select_apple.mean()\n",
        "print(\"The mean weight for apples is: \", a)\n",
        "\n",
        "select_banana = df.loc[df[0] == 'banana']\n",
        "#print(select_banana)\n",
        "b = select_banana.mean()\n",
        "print(\"The mean weight for bananas is:\", b)\n",
        "\n",
        "select_carrot = df.loc[df[0] == 'carrot']\n",
        "#print(select_carrot)\n",
        "c = select_carrot.mean()\n",
        "print(\"The mean weight for carrots is:\", c)\n"
      ],
      "execution_count": null,
      "outputs": [
        {
          "output_type": "stream",
          "text": [
            "        0     1\n",
            "0  carrot   1.0\n",
            "1   apple   2.0\n",
            "2  banana   3.0\n",
            "3  banana   4.0\n",
            "4  carrot   5.0\n",
            "5   apple   6.0\n",
            "6   apple   7.0\n",
            "7   apple   8.0\n",
            "8  carrot   9.0\n",
            "9   apple  10.0\n",
            "The mean weight for apples is:  1    6.6\n",
            "dtype: float64\n",
            "The mean weight for bananas is: 1    3.5\n",
            "dtype: float64\n",
            "The mean weight for carrots is: 1    5.0\n",
            "dtype: float64\n"
          ],
          "name": "stdout"
        }
      ]
    },
    {
      "cell_type": "markdown",
      "metadata": {
        "id": "g4lKaPIhtVrt"
      },
      "source": [
        "**Q3. Consider the below course_name array:**\n",
        "\n",
        "**Q3-1**: Write a NumPy program to get the indices of the sorted elements of **course_name** array.\n",
        "\n",
        "**Q3-2:** Write numpy code to check whether each element of **course_name** array starts with \"P\".\n"
      ]
    },
    {
      "cell_type": "code",
      "metadata": {
        "id": "RUP_jp2KtVrx"
      },
      "source": [
        "import numpy as np\n",
        "course_name = np.array(['Python', 'JS', 'examples', 'PHP', 'html'])"
      ],
      "execution_count": null,
      "outputs": []
    },
    {
      "cell_type": "code",
      "metadata": {
        "id": "U1i27POxv-o_",
        "colab": {
          "base_uri": "https://localhost:8080/"
        },
        "outputId": "67b0f4f9-65f9-4382-9276-a7cc3ce40dd4"
      },
      "source": [
        "# Type your solution here\n",
        "print(\"Original array:\")\n",
        "print(course_name)\n",
        "i = np.argsort(course_name)\n",
        "print(\"Indices of the sorted elements of a given array:\")\n",
        "print(i)\n",
        "print(\"Check if each element of the array starts with 'P':\")\n",
        "s = np.char.startswith(course_name, \"P\")\n",
        "print(s)\n"
      ],
      "execution_count": null,
      "outputs": [
        {
          "output_type": "stream",
          "text": [
            "Original array:\n",
            "['Python' 'JS' 'examples' 'PHP' 'html']\n",
            "Indices of the sorted elements of a given array:\n",
            "[1 3 0 2 4]\n",
            "Check if each element of the array starts with 'P':\n",
            "[ True False False  True False]\n"
          ],
          "name": "stdout"
        }
      ]
    },
    {
      "cell_type": "markdown",
      "metadata": {
        "id": "sUFItNFOxwkz"
      },
      "source": [
        "**Q4. Consider the below student_id array:**\n",
        "\n",
        "**Q4-1:** Reverse the **student_id** array. Print both original and reversed array.\n",
        "\n",
        "**Q4-2:** Get the 3-largest values of **student_id** array."
      ]
    },
    {
      "cell_type": "code",
      "metadata": {
        "id": "Rl5qzEjFv0nw"
      },
      "source": [
        "import numpy as np\n",
        "student_id = np.array([1023, 5202, 6230, 1671, 1682, 5241, 4532])"
      ],
      "execution_count": null,
      "outputs": []
    },
    {
      "cell_type": "code",
      "metadata": {
        "id": "EetvHGrUxMCC",
        "colab": {
          "base_uri": "https://localhost:8080/"
        },
        "outputId": "a095c0ae-0f86-497a-9ef7-4057b368467b"
      },
      "source": [
        "# Type your solution here\n",
        "print(\"The original list is:\") \n",
        "print(student_id)\n",
        "# Function to reverse list\n",
        "def reverseList(student_id, start, end):\n",
        "    while start < end:\n",
        "        student_id[start], student_id[end] = student_id[end], student_id[start]\n",
        "        start += 1\n",
        "        end -= 1\n",
        "reverseList(student_id, 0, 6)\n",
        "print(\"Reversed list is\")\n",
        "print(student_id)\n",
        "\n",
        "import sys\n",
        "# Function to print three largest \n",
        "def print3largest(arr, arr_size):   \n",
        "    third = first = second = -sys.maxsize\n",
        "    for i in range(0, 6):\n",
        "        if (arr[i] > first):\n",
        "         \n",
        "            third = second\n",
        "            second = first\n",
        "            first = arr[i]\n",
        "\n",
        "        # If i is in between first and second then update second \n",
        "        elif (arr[i] > second):\n",
        "         \n",
        "            third = second\n",
        "            second = arr[i]\n",
        "         \n",
        "        elif (arr[i] > third):\n",
        "            third = arr[i]\n",
        "     \n",
        "    print(\"Three largest elements are\",\n",
        "                  first, second, third)\n",
        "n = len(student_id)\n",
        "print3largest(student_id, n) "
      ],
      "execution_count": null,
      "outputs": [
        {
          "output_type": "stream",
          "text": [
            "The original list is:\n",
            "[1023 5202 6230 1671 1682 5241 4532]\n",
            "Reversed list is\n",
            "[4532 5241 1682 1671 6230 5202 1023]\n",
            "Three largest elements are 6230 5241 5202\n"
          ],
          "name": "stdout"
        }
      ]
    },
    {
      "cell_type": "markdown",
      "metadata": {
        "id": "uKRyDVuW6B19"
      },
      "source": [
        "# **Q5: Write a numpy program to print sum of all the multiples of 3 or 5 below 100**"
      ]
    },
    {
      "cell_type": "code",
      "metadata": {
        "id": "ZIixq1gz6OK3",
        "colab": {
          "base_uri": "https://localhost:8080/"
        },
        "outputId": "a138f2fb-65ca-4966-d421-454fa523d965"
      },
      "source": [
        "# Type your solution here\n",
        "import numpy as np\n",
        "x = np.arange(1, 100)\n",
        "# find all multiples of 3 or 5 below 100\n",
        "n= x[(x % 3 == 0) | (x % 5 == 0)]\n",
        "print(n[:100])\n",
        "# print the sum \n",
        "print(n.sum())\n"
      ],
      "execution_count": null,
      "outputs": [
        {
          "output_type": "stream",
          "text": [
            "[ 3  5  6  9 10 12 15 18 20 21 24 25 27 30 33 35 36 39 40 42 45 48 50 51\n",
            " 54 55 57 60 63 65 66 69 70 72 75 78 80 81 84 85 87 90 93 95 96 99]\n",
            "2318\n"
          ],
          "name": "stdout"
        }
      ]
    },
    {
      "cell_type": "markdown",
      "metadata": {
        "id": "2CWJOsP24c34"
      },
      "source": [
        "**Q6. Consider the below array.**\n",
        "\n",
        "Q6.1. Write a code to swap column 1 with column 2.\n",
        "\n",
        "Q6.2. Write a code to swap row 0 with row 1."
      ]
    },
    {
      "cell_type": "code",
      "metadata": {
        "id": "3OG6X5Eg5KSM",
        "colab": {
          "base_uri": "https://localhost:8080/"
        },
        "outputId": "7fecda62-e533-4f57-cc5f-7b1fb83ddbb5"
      },
      "source": [
        "import numpy as np\n",
        "\n",
        "arr = np.arange(12).reshape(3,4)\n",
        "print(arr)"
      ],
      "execution_count": null,
      "outputs": [
        {
          "output_type": "stream",
          "text": [
            "[[ 0  1  2  3]\n",
            " [ 4  5  6  7]\n",
            " [ 8  9 10 11]]\n"
          ],
          "name": "stdout"
        }
      ]
    },
    {
      "cell_type": "code",
      "metadata": {
        "id": "Q-Q91DpO5YYW",
        "colab": {
          "base_uri": "https://localhost:8080/"
        },
        "outputId": "1b7bc6a8-82e4-409a-bbad-f995d2d9d144"
      },
      "source": [
        "# Type your solution here\n",
        "arr[:, [1, 0]] = arr[:, [0, 1]] \n",
        "print(\"After swapping arrays the last column and first column:\") \n",
        "print(arr)\n"
      ],
      "execution_count": null,
      "outputs": [
        {
          "output_type": "stream",
          "text": [
            "After swapping arrays the last column and first column:\n",
            "[[ 1  0  2  3]\n",
            " [ 5  4  6  7]\n",
            " [ 9  8 10 11]]\n"
          ],
          "name": "stdout"
        }
      ]
    },
    {
      "cell_type": "code",
      "metadata": {
        "colab": {
          "base_uri": "https://localhost:8080/"
        },
        "id": "b_XzF4F9o77j",
        "outputId": "5147c13d-ab70-463d-a408-0a08338ead7f"
      },
      "source": [
        "import numpy as np\n",
        "\n",
        "arr = np.arange(12).reshape(3,4)\n",
        "print(arr)\n",
        "a = pd.DataFrame(arr)\n",
        "b, c = a.iloc[0], a.iloc[1]\n",
        "\n",
        "print(\"After swapping row 0 with row 1\")\n",
        "temp = a.iloc[0].copy()\n",
        "a.iloc[0] = c\n",
        "a.iloc[1] = temp"
      ],
      "execution_count": null,
      "outputs": [
        {
          "output_type": "stream",
          "text": [
            "[[ 0  1  2  3]\n",
            " [ 4  5  6  7]\n",
            " [ 8  9 10 11]]\n"
          ],
          "name": "stdout"
        }
      ]
    }
  ]
}